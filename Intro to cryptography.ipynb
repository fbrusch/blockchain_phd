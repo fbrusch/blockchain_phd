{
 "cells": [
  {
   "cell_type": "markdown",
   "metadata": {},
   "source": [
    "# hash functions\n",
    "\n",
    "What are hash functions?\n",
    "\n",
    "\n",
    "Let's consider the set of all bit strings: \n",
    "\n",
    "$ B = {0,1,00,01,10,11,...}$, or $ B = \\bigcup\\limits_{i=1}^{\\infty}\\{0,1\\}^i$\n",
    "\n",
    "Then a _hash function_ is any function that maps $h: B \\mapsto \\{0,1\\}^k, k \\in N$\n",
    "\n",
    "That is: a function that, given any string of bits, returns a string of bits of finite defined length."
   ]
  },
  {
   "cell_type": "markdown",
   "metadata": {},
   "source": [
    "Examples of hash functions:"
   ]
  },
  {
   "cell_type": "code",
   "execution_count": null,
   "metadata": {},
   "outputs": [],
   "source": [
    "def h1(s):\n",
    "    return s[0] # returns the first bit\n",
    "\n",
    "def h2(s):\n",
    "    return s[:5] # returns the first 5 bits\n",
    "\n",
    "def h3(s):\n",
    "    h = 0x00\n",
    "    for b in s:\n",
    "        h ^= b   # xors all the bytes in s\n",
    "    return h"
   ]
  },
  {
   "cell_type": "markdown",
   "metadata": {},
   "source": [
    "ok, these examples are not very exciting.\n",
    "\n",
    "But consider the set $H$ of all the possible hash function, and pick one _at random_ (ok, since $H$ is infinite you should define a distribution, and not a uniform one, but let's not be picky here...)\n",
    "\n",
    "So, your picked up $h$ is a _random oracle_! That is, a function that, given an input $x$ gives you a random number, but in a \"consistent\" way: if you give compute $h(x)$ over and over, you always get the same result.\n"
   ]
  },
  {
   "cell_type": "markdown",
   "metadata": {},
   "source": [
    "Now, what can we do, with a random oracle? Some interesting things, it turns out!"
   ]
  },
  {
   "cell_type": "markdown",
   "metadata": {},
   "source": [
    "But, first of all, do you want to see how our $h$ could look like? Here's an online interactive example: https://emn178.github.io/online-tools/sha256.html"
   ]
  },
  {
   "cell_type": "code",
   "execution_count": 23,
   "metadata": {
    "scrolled": true
   },
   "outputs": [
    {
     "name": "stdout",
     "output_type": "stream",
     "text": [
      "b133a0c0e9bee3be20163d2ad31d6248db292aa6dcb1ee087a2aa50e0fc75ae2\n"
     ]
    }
   ],
   "source": [
    "# in python we have some interesting function that at least mimic a random oracle\n",
    "\n",
    "from hashlib import sha256\n",
    "\n",
    "print(sha256(b\"ciao\").hexdigest())"
   ]
  },
  {
   "cell_type": "markdown",
   "metadata": {},
   "source": [
    "What can we do with a hash function?"
   ]
  },
  {
   "cell_type": "markdown",
   "metadata": {},
   "source": [
    "## commit reveal\n",
    "\n",
    "Suppose I want to make a forecast, like about something that you will do or say. If I tell you what you will do, then you'll avoid doing it. If I don't tell it to you in advance, you won't know if I made up my minds after the fact.\n",
    "A solution can be: I write my prediction on a piece of paper, put it in an envelope, seal it in front of you, you seal it with your signature so that it cannot be tampered with. After the fact, we open the envelope, and check.\n",
    "\n",
    "With an hash function, we can do this digitally!\n",
    "\n",
    "I compute the hash of my forecast, and tell it to you (that's my _commitment_). Can you obtain the original message? Well that's difficult for many reasons\n",
    "\n",
    "Given a hash function $H$ and a value $h$ in the domain of $H$, we say that $x$ is a _preimage_ of $h$ if $H(x) = h$. Now my forecast is for sure a preimage of my commitment.\n",
    "\n",
    "Can you find a preimage of my commitment? How difficult is that?\n",
    "\n",
    "On the other hand, can I produce a commitment that is a preimage of two different forecasts? How difficult would that be?\n",
    "\n",
    "So, after the fact, I reveal my forecast. You check that the hash of the forecast matches the commitment, and are sure that I couldn't have changed it.\n",
    "\n",
    "\n",
    "Exercise:\n",
    " * find a preimage of the hash `3fff0f0c45f0dcb95fdd65734f039268ed1a762cd4a2c7d240e4b1570110087b`?\n",
    " * how would you implement \"stone scissor paper\" digitally (or, on the phone)? \n"
   ]
  },
  {
   "cell_type": "markdown",
   "metadata": {},
   "source": [
    "## proof of work\n",
    "\n",
    "[...]"
   ]
  },
  {
   "cell_type": "code",
   "execution_count": null,
   "metadata": {},
   "outputs": [],
   "source": []
  },
  {
   "cell_type": "code",
   "execution_count": 27,
   "metadata": {},
   "outputs": [],
   "source": [
    "# cryptography\n",
    "\n",
    "## simmetric criptography\n",
    "\n",
    "## asymmetric encription\n",
    "\n"
   ]
  }
 ],
 "metadata": {
  "kernelspec": {
   "display_name": "Python 3",
   "language": "python",
   "name": "python3"
  },
  "language_info": {
   "codemirror_mode": {
    "name": "ipython",
    "version": 3
   },
   "file_extension": ".py",
   "mimetype": "text/x-python",
   "name": "python",
   "nbconvert_exporter": "python",
   "pygments_lexer": "ipython3",
   "version": "3.8.2"
  }
 },
 "nbformat": 4,
 "nbformat_minor": 4
}
